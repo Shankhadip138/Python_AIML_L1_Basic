{
 "cells": [
  {
   "cell_type": "code",
   "execution_count": 40,
   "metadata": {},
   "outputs": [],
   "source": [
    "import pandas as pd\n",
    "from sklearn.model_selection import KFold\n",
    "from sklearn.model_selection import train_test_split\n",
    "from sklearn.model_selection import cross_val_score\n",
    "from sklearn.neighbors import KNeighborsClassifier\n",
    "from sklearn import preprocessing\n",
    "import matplotlib.pyplot as plt\n",
    "from sklearn.cluster import KMeans"
   ]
  },
  {
   "cell_type": "code",
   "execution_count": 41,
   "metadata": {},
   "outputs": [
    {
     "data": {
      "text/html": [
       "<div>\n",
       "<style scoped>\n",
       "    .dataframe tbody tr th:only-of-type {\n",
       "        vertical-align: middle;\n",
       "    }\n",
       "\n",
       "    .dataframe tbody tr th {\n",
       "        vertical-align: top;\n",
       "    }\n",
       "\n",
       "    .dataframe thead th {\n",
       "        text-align: right;\n",
       "    }\n",
       "</style>\n",
       "<table border=\"1\" class=\"dataframe\">\n",
       "  <thead>\n",
       "    <tr style=\"text-align: right;\">\n",
       "      <th></th>\n",
       "      <th>Age</th>\n",
       "      <th>Patients year of operation</th>\n",
       "      <th>Number of positive axillary nodes detected</th>\n",
       "      <th>Survival status</th>\n",
       "    </tr>\n",
       "  </thead>\n",
       "  <tbody>\n",
       "    <tr>\n",
       "      <th>0</th>\n",
       "      <td>30</td>\n",
       "      <td>64</td>\n",
       "      <td>1</td>\n",
       "      <td>1</td>\n",
       "    </tr>\n",
       "    <tr>\n",
       "      <th>1</th>\n",
       "      <td>30</td>\n",
       "      <td>62</td>\n",
       "      <td>3</td>\n",
       "      <td>1</td>\n",
       "    </tr>\n",
       "    <tr>\n",
       "      <th>2</th>\n",
       "      <td>30</td>\n",
       "      <td>65</td>\n",
       "      <td>0</td>\n",
       "      <td>1</td>\n",
       "    </tr>\n",
       "    <tr>\n",
       "      <th>3</th>\n",
       "      <td>31</td>\n",
       "      <td>59</td>\n",
       "      <td>2</td>\n",
       "      <td>1</td>\n",
       "    </tr>\n",
       "    <tr>\n",
       "      <th>4</th>\n",
       "      <td>31</td>\n",
       "      <td>65</td>\n",
       "      <td>4</td>\n",
       "      <td>1</td>\n",
       "    </tr>\n",
       "    <tr>\n",
       "      <th>...</th>\n",
       "      <td>...</td>\n",
       "      <td>...</td>\n",
       "      <td>...</td>\n",
       "      <td>...</td>\n",
       "    </tr>\n",
       "    <tr>\n",
       "      <th>301</th>\n",
       "      <td>75</td>\n",
       "      <td>62</td>\n",
       "      <td>1</td>\n",
       "      <td>1</td>\n",
       "    </tr>\n",
       "    <tr>\n",
       "      <th>302</th>\n",
       "      <td>76</td>\n",
       "      <td>67</td>\n",
       "      <td>0</td>\n",
       "      <td>1</td>\n",
       "    </tr>\n",
       "    <tr>\n",
       "      <th>303</th>\n",
       "      <td>77</td>\n",
       "      <td>65</td>\n",
       "      <td>3</td>\n",
       "      <td>1</td>\n",
       "    </tr>\n",
       "    <tr>\n",
       "      <th>304</th>\n",
       "      <td>78</td>\n",
       "      <td>65</td>\n",
       "      <td>1</td>\n",
       "      <td>2</td>\n",
       "    </tr>\n",
       "    <tr>\n",
       "      <th>305</th>\n",
       "      <td>83</td>\n",
       "      <td>58</td>\n",
       "      <td>2</td>\n",
       "      <td>2</td>\n",
       "    </tr>\n",
       "  </tbody>\n",
       "</table>\n",
       "<p>306 rows × 4 columns</p>\n",
       "</div>"
      ],
      "text/plain": [
       "     Age  Patients year of operation  \\\n",
       "0     30                          64   \n",
       "1     30                          62   \n",
       "2     30                          65   \n",
       "3     31                          59   \n",
       "4     31                          65   \n",
       "..   ...                         ...   \n",
       "301   75                          62   \n",
       "302   76                          67   \n",
       "303   77                          65   \n",
       "304   78                          65   \n",
       "305   83                          58   \n",
       "\n",
       "     Number of positive axillary nodes detected  Survival status  \n",
       "0                                             1                1  \n",
       "1                                             3                1  \n",
       "2                                             0                1  \n",
       "3                                             2                1  \n",
       "4                                             4                1  \n",
       "..                                          ...              ...  \n",
       "301                                           1                1  \n",
       "302                                           0                1  \n",
       "303                                           3                1  \n",
       "304                                           1                2  \n",
       "305                                           2                2  \n",
       "\n",
       "[306 rows x 4 columns]"
      ]
     },
     "execution_count": 41,
     "metadata": {},
     "output_type": "execute_result"
    }
   ],
   "source": [
    "names = ['Age','Patients year of operation','Number of positive axillary nodes detected','Survival status']\n",
    "ds=pd.read_csv(\"haberman.csv\", names=names)\n",
    "ds"
   ]
  },
  {
   "cell_type": "code",
   "execution_count": 8,
   "metadata": {},
   "outputs": [],
   "source": [
    "#Dependent Variable -> Survival Status\n",
    "#Independent Variable ->  Age,Year,No of Positive Auxilary"
   ]
  },
  {
   "cell_type": "code",
   "execution_count": 54,
   "metadata": {},
   "outputs": [
    {
     "name": "stdout",
     "output_type": "stream",
     "text": [
      "(62, 3)\n",
      "(62,)\n",
      "(244,)\n",
      "(244, 3)\n"
     ]
    }
   ],
   "source": [
    "arr=ds.values\n",
    "arr\n",
    "X=arr[:,0:3]\n",
    "y=arr[:,3]\n",
    "Xtrain, Xtest, ytrain, ytest = train_test_split(X, y, test_size = 1/5, random_state = 1)\n",
    "print(np.shape(Xtest))\n",
    "print(np.shape(ytest))\n",
    "print(np.shape(ytrain))\n",
    "print(np.shape(Xtrain))\n",
    "#print(X)"
   ]
  },
  {
   "cell_type": "code",
   "execution_count": 55,
   "metadata": {},
   "outputs": [
    {
     "name": "stdout",
     "output_type": "stream",
     "text": [
      "0.7263333333333333\n"
     ]
    }
   ],
   "source": [
    "num_folds = 10\n",
    "kfold = KFold(n_splits=10, random_state=None)\n",
    "model = KNeighborsClassifier()\n",
    "results = cross_val_score(model, Xtrain, ytrain, cv=kfold)\n",
    "print(results.mean())"
   ]
  },
  {
   "cell_type": "code",
   "execution_count": 56,
   "metadata": {},
   "outputs": [
    {
     "data": {
      "text/plain": [
       "KNeighborsClassifier()"
      ]
     },
     "execution_count": 56,
     "metadata": {},
     "output_type": "execute_result"
    }
   ],
   "source": [
    "model.fit(Xtrain,ytrain)"
   ]
  },
  {
   "cell_type": "code",
   "execution_count": 60,
   "metadata": {},
   "outputs": [
    {
     "name": "stdout",
     "output_type": "stream",
     "text": [
      "[1 1 1 1 2 2 1 1 1 1 1 2 1 1 1 2 1 1 1 1 1 1 1 1 1 1 1 1 1 1 1 1 1 1 1 1 1\n",
      " 1 1 1 1 2 1 1 1 2 1 1 1 1 2 2 1 2 1 1 1 1 1 2 1 2]\n",
      "The patient survived 5 years or longer\n",
      "The patient survived 5 years or longer\n",
      "The patient survived 5 years or longer\n",
      "The patient survived 5 years or longer\n",
      "The patient died within 5 year\n",
      "The patient died within 5 year\n",
      "The patient survived 5 years or longer\n",
      "The patient survived 5 years or longer\n",
      "The patient survived 5 years or longer\n",
      "The patient survived 5 years or longer\n",
      "The patient survived 5 years or longer\n",
      "The patient died within 5 year\n",
      "The patient survived 5 years or longer\n",
      "The patient survived 5 years or longer\n",
      "The patient survived 5 years or longer\n",
      "The patient died within 5 year\n",
      "The patient survived 5 years or longer\n",
      "The patient survived 5 years or longer\n",
      "The patient survived 5 years or longer\n",
      "The patient survived 5 years or longer\n",
      "The patient survived 5 years or longer\n",
      "The patient survived 5 years or longer\n",
      "The patient survived 5 years or longer\n",
      "The patient survived 5 years or longer\n",
      "The patient survived 5 years or longer\n",
      "The patient survived 5 years or longer\n",
      "The patient survived 5 years or longer\n",
      "The patient survived 5 years or longer\n",
      "The patient survived 5 years or longer\n",
      "The patient survived 5 years or longer\n",
      "The patient survived 5 years or longer\n",
      "The patient survived 5 years or longer\n",
      "The patient survived 5 years or longer\n",
      "The patient survived 5 years or longer\n",
      "The patient survived 5 years or longer\n",
      "The patient survived 5 years or longer\n",
      "The patient survived 5 years or longer\n",
      "The patient survived 5 years or longer\n",
      "The patient survived 5 years or longer\n",
      "The patient survived 5 years or longer\n",
      "The patient survived 5 years or longer\n",
      "The patient died within 5 year\n",
      "The patient survived 5 years or longer\n",
      "The patient survived 5 years or longer\n",
      "The patient survived 5 years or longer\n",
      "The patient died within 5 year\n",
      "The patient survived 5 years or longer\n",
      "The patient survived 5 years or longer\n",
      "The patient survived 5 years or longer\n",
      "The patient survived 5 years or longer\n",
      "The patient died within 5 year\n",
      "The patient died within 5 year\n",
      "The patient survived 5 years or longer\n",
      "The patient died within 5 year\n",
      "The patient survived 5 years or longer\n",
      "The patient survived 5 years or longer\n",
      "The patient survived 5 years or longer\n",
      "The patient survived 5 years or longer\n",
      "The patient survived 5 years or longer\n",
      "The patient died within 5 year\n",
      "The patient survived 5 years or longer\n",
      "The patient died within 5 year\n"
     ]
    }
   ],
   "source": [
    "results = model.predict(Xtest)\n",
    "print(model.predict(Xtest))\n",
    "for val in results:\n",
    "    if val == 1:\n",
    "        print(\"The patient survived 5 years or longer\")\n",
    "    else:\n",
    "        print(\"The patient died within 5 year\")\n",
    "#print()"
   ]
  },
  {
   "cell_type": "code",
   "execution_count": 61,
   "metadata": {},
   "outputs": [
    {
     "name": "stdout",
     "output_type": "stream",
     "text": [
      "Accuracy: 0.776 (0.181)\n"
     ]
    }
   ],
   "source": [
    "results = cross_val_score(model, Xtest, ytest, cv=kfold, scoring=\"accuracy\")\n",
    "print(\"Accuracy: %.3f (%.3f)\" % (results.mean(), results.std()))"
   ]
  }
 ],
 "metadata": {
  "anaconda-cloud": {},
  "kernelspec": {
   "display_name": "Python 3",
   "language": "python",
   "name": "python3"
  },
  "language_info": {
   "codemirror_mode": {
    "name": "ipython",
    "version": 3
   },
   "file_extension": ".py",
   "mimetype": "text/x-python",
   "name": "python",
   "nbconvert_exporter": "python",
   "pygments_lexer": "ipython3",
   "version": "3.8.5"
  }
 },
 "nbformat": 4,
 "nbformat_minor": 4
}
