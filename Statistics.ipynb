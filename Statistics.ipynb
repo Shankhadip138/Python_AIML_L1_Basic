{
 "cells": [
  {
   "cell_type": "code",
   "execution_count": 28,
   "metadata": {},
   "outputs": [],
   "source": [
    "import pandas as pd\n",
    "import numpy as np\n",
    "from scipy import stats as sta"
   ]
  },
  {
   "cell_type": "code",
   "execution_count": 32,
   "metadata": {},
   "outputs": [
    {
     "name": "stdout",
     "output_type": "stream",
     "text": [
      "Mean of Salary-77821.2\n",
      "Mode Salary-ModeResult(mode=array([100639], dtype=int64), count=array([2]))\n",
      "Median of Salary-87654.0\n",
      "Mean of expirience-6.2\n",
      "Mode of expirience-ModeResult(mode=array([10], dtype=int64), count=array([5]))\n",
      "Median of expirience-7.0\n",
      "Standard Deviation of Salary-39042.52996208109\n",
      "Variance of the Salary-1524319145.84\n"
     ]
    }
   ],
   "source": [
    "df=pd.read_excel(\"stat_1.xlsx\")\n",
    "#print(df)\n",
    "arr=df.values\n",
    "#print(arr)\n",
    "sal=arr[:,2]\n",
    "exp=arr[:,1]\n",
    "#print(sal)\n",
    "avg_sal=np.mean(sal)\n",
    "med_sal=np.median(sal)\n",
    "mod_sal=sta.mode(sal)\n",
    "avg_exp=np.mean(exp)\n",
    "med_exp=np.median(exp)\n",
    "mod_exp=sta.mode(exp)\n",
    "standard_salary=np.std(sal)\n",
    "var_salary=np.var(sal)\n",
    "print(\"Mean of Salary->{0}\".format(avg_sal))\n",
    "print(\"Mode Salary->{0}\".format(mod_sal))\n",
    "print(\"Median of Salary->{0}\".format(med_sal))\n",
    "print(\"Mean of expirience->{0}\".format(avg_exp))\n",
    "print(\"Mode of expirience->{0}\".format(mod_exp))\n",
    "print(\"Median of expirience->{0}\".format(med_exp))\n",
    "print(\"Standard Deviation of Salary->{0}\".format(standard_salary))\n",
    "print(\"Variance of the Salary->{0}\".format(var_salary))"
   ]
  }
 ],
 "metadata": {
  "anaconda-cloud": {},
  "kernelspec": {
   "display_name": "Python 3",
   "language": "python",
   "name": "python3"
  },
  "language_info": {
   "codemirror_mode": {
    "name": "ipython",
    "version": 3
   },
   "file_extension": ".py",
   "mimetype": "text/x-python",
   "name": "python",
   "nbconvert_exporter": "python",
   "pygments_lexer": "ipython3",
   "version": "3.8.5"
  }
 },
 "nbformat": 4,
 "nbformat_minor": 4
}
